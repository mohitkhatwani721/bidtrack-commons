{
  "nbformat": 4,
  "nbformat_minor": 0,
  "metadata": {
    "colab": {
      "provenance": [],
      "authorship_tag": "ABX9TyMhDTYjnzlwGlRxBHGnUs/X",
      "include_colab_link": true
    },
    "kernelspec": {
      "name": "python3",
      "display_name": "Python 3"
    },
    "language_info": {
      "name": "python"
    }
  },
  "cells": [
    {
      "cell_type": "markdown",
      "metadata": {
        "id": "view-in-github",
        "colab_type": "text"
      },
      "source": [
        "<a href=\"https://colab.research.google.com/github/mohitkhatwani721/bidtrack-commons/blob/main/pythochatbot19thjuly.ipynb\" target=\"_parent\"><img src=\"https://colab.research.google.com/assets/colab-badge.svg\" alt=\"Open In Colab\"/></a>"
      ]
    },
    {
      "cell_type": "code",
      "source": [
        "# STEP 1: Install OpenAI SDK\n",
        "!pip install openai --quiet"
      ],
      "metadata": {
        "id": "2XfEw4QwcN_o"
      },
      "execution_count": 23,
      "outputs": []
    },
    {
      "cell_type": "code",
      "source": [
        "# STEP 2: Import libraries and set your API key\n",
        "import openai\n",
        "\n",
        "# ⚠️ Replace with your new, safe OpenAI key\n",
        "openai.api_key = \"sk-your-new-key-here\""
      ],
      "metadata": {
        "id": "sVYYG2QCdsBi"
      },
      "execution_count": 24,
      "outputs": []
    },
    {
      "cell_type": "code",
      "source": [
        "# STEP 3: Define the Python tutor system prompt\n",
        "system_prompt = \"\"\"\n",
        "Act as a only Python tutor bot designed to teach beginners how to write and learn Python programming through clear explanations and beginner-friendly code examples. Assume the learner has little or no prior understanding of code.\n",
        "\n",
        "Respond to all questions or topics by first giving a high-level explanation using simple language, analogies, or real-life comparisons. Then, break down each concept step by step before presenting any code, ensuring to explain what each line of code means. Use short code examples, and accompany them with detailed but clear explanations, so that the learner can easily follow along.\n",
        "\n",
        "If the learner asks for clarification about any code or concept, provide further breakdown and supportive commentary. When relevant, offer practical examples or simple exercises the learner can try. Do not assume prior knowledge of programming terms: define each new term the first time it appears.\n",
        "\n",
        "Always follow this reasoning-first structure:\n",
        "1. Begin with a plain-language explanation of the concept or problem.\n",
        "2. Break down the idea step by step, including why and how it is used.\n",
        "3. Present a simple code example.\n",
        "4. Explain each line of code in detail.\n",
        "5. Optionally, suggest a related beginner-friendly exercise.\n",
        "\n",
        "Output your response as follows:\n",
        "- Each section should be clearly marked (e.g., \"Explanation:\", \"Step-by-step:\", \"Example Code:\", \"Code Explanation:\", \"Try it Yourself:\")\n",
        "- Keep language simple and concise.\n",
        "- For code, use markdown code blocks.\n",
        "\n",
        "REMINDER:\n",
        "Your main objective is to patiently, step-wise, and clearly explain beginner Python topics with lots of breakdown and plain language before offering code, and to ensure the learner can understand and practice Python from a zero-knowledge starting point.\n",
        "\n",
        "If any other questions are asked other than Python, politely mention that you don’t have the knowledge about it.\n",
        "\n",
        "Also note that the user has never done coding.\n",
        "\"\"\""
      ],
      "metadata": {
        "id": "K7YrTCBHd2Y0"
      },
      "execution_count": 25,
      "outputs": []
    },
    {
      "cell_type": "code",
      "source": [
        "\n",
        "# STEP 4: Get dynamic input from the user\n",
        "user_message = input(\"Ask your beginner Python question: \")"
      ],
      "metadata": {
        "colab": {
          "base_uri": "https://localhost:8080/"
        },
        "id": "fpAV-Ztsfntp",
        "outputId": "87b5ca13-4e18-40de-a200-cce024e493bf"
      },
      "execution_count": 27,
      "outputs": [
        {
          "name": "stdout",
          "output_type": "stream",
          "text": [
            "Ask your beginner Python question: what is tuple?\n"
          ]
        }
      ]
    },
    {
      "cell_type": "code",
      "source": [
        "# STEP 5–6: Call the API and show the response\n",
        "try:\n",
        "    response = client.chat.completions.create(\n",
        "        model=\"gpt-4\",\n",
        "        messages=[\n",
        "            {\"role\": \"system\", \"content\": system_prompt},\n",
        "            {\"role\": \"user\", \"content\": user_message}\n",
        "        ],\n",
        "        max_tokens=1024,\n",
        "        temperature=0.5,\n",
        "        frequency_penalty=0.3,\n",
        "        presence_penalty=0.1,\n",
        "        stop=[\"are u ok?\", \"is this answer perfect?\"]\n",
        "    )\n",
        "\n",
        "    print(\"\\n📘 Python Tutor's Response:\\n\")\n",
        "    print(response.choices[0].message.content)\n",
        "\n",
        "except Exception as e:\n",
        "    print(\"❌ Error occurred:\", e)\n"
      ],
      "metadata": {
        "colab": {
          "base_uri": "https://localhost:8080/"
        },
        "id": "KVYj-dTMeM8l",
        "outputId": "0d975c8b-bb61-483e-a306-e28dfa8b757a"
      },
      "execution_count": 28,
      "outputs": [
        {
          "output_type": "stream",
          "name": "stdout",
          "text": [
            "❌ Error occurred: name 'client' is not defined\n"
          ]
        }
      ]
    }
  ]
}